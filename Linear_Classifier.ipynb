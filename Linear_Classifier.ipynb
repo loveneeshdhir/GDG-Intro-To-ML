{
  "nbformat": 4,
  "nbformat_minor": 0,
  "metadata": {
    "colab": {
      "name": "Linear Classifier.ipynb",
      "version": "0.3.2",
      "provenance": [],
      "collapsed_sections": []
    },
    "kernelspec": {
      "display_name": "Python 3",
      "language": "python",
      "name": "python3"
    }
  },
  "cells": [
    {
      "cell_type": "code",
      "metadata": {
        "id": "GYjxAIaxEm7Q",
        "colab_type": "code",
        "outputId": "b2d639fe-24d2-472e-d144-a7112a739e4a",
        "colab": {
          "base_uri": "https://localhost:8080/",
          "height": 51
        }
      },
      "source": [
        "!pip install mnist\n",
        "import mnist\n",
        "import numpy as np\n",
        "import matplotlib.pyplot as plt\n",
        "np.random.seed(123)"
      ],
      "execution_count": 0,
      "outputs": [
        {
          "output_type": "stream",
          "text": [
            "Requirement already satisfied: mnist in /usr/local/lib/python3.6/dist-packages (0.2.2)\n",
            "Requirement already satisfied: numpy in /usr/local/lib/python3.6/dist-packages (from mnist) (1.16.4)\n"
          ],
          "name": "stdout"
        }
      ]
    },
    {
      "cell_type": "markdown",
      "metadata": {
        "id": "c4t1DOqFEm7T",
        "colab_type": "text"
      },
      "source": [
        "# Linear Classifer\n",
        "\n",
        "# Logistic Regression\n",
        "\n",
        "## Forward"
      ]
    },
    {
      "cell_type": "code",
      "metadata": {
        "id": "YHH0oPyTEm7U",
        "colab_type": "code",
        "colab": {}
      },
      "source": [
        "def sigmoid(num):\n",
        "    logits = 1 / (1 + np.exp(-num))\n",
        "    return logits"
      ],
      "execution_count": 0,
      "outputs": []
    },
    {
      "cell_type": "code",
      "metadata": {
        "id": "VlCwp8i4Em7W",
        "colab_type": "code",
        "colab": {}
      },
      "source": [
        "def linear_classifier(train_data, train_labels, loss = 'softmax'):\n",
        "    weights = np.random.rand(train_data.shape[1], 1)\n",
        "    bias = np.zeros((1))\n",
        "    ,\n",
        "    # forward \n",
        "    pre_activation = np.dot(train_data, weights) + bias\n",
        "    out = sigmoid(pre_activation)\n",
        "    return out, train_labels"
      ],
      "execution_count": 0,
      "outputs": []
    },
    {
      "cell_type": "code",
      "metadata": {
        "id": "PweBlp5jEm7Z",
        "colab_type": "code",
        "outputId": "d695beda-d2e8-41d6-c813-4959d6582a53",
        "colab": {
          "base_uri": "https://localhost:8080/",
          "height": 102
        }
      },
      "source": [
        "linear_classifier(np.random.rand(5,6), np.random.randint(2, size=5))"
      ],
      "execution_count": 0,
      "outputs": [
        {
          "output_type": "execute_result",
          "data": {
            "text/plain": [
              "(array([[0.81854941],\n",
              "        [0.80614069],\n",
              "        [0.73719947],\n",
              "        [0.87506132],\n",
              "        [0.74351717]]), array([0, 1, 0, 1, 0]))"
            ]
          },
          "metadata": {
            "tags": []
          },
          "execution_count": 4
        }
      ]
    },
    {
      "cell_type": "markdown",
      "metadata": {
        "id": "SG0XZesDEm7d",
        "colab_type": "text"
      },
      "source": [
        "## Loss"
      ]
    },
    {
      "cell_type": "code",
      "metadata": {
        "id": "qsGG1Y5EEm7d",
        "colab_type": "code",
        "colab": {}
      },
      "source": [
        "def loss(out, actual):\n",
        "    return np.mean(- actual * out - (1 - actual) * out)"
      ],
      "execution_count": 0,
      "outputs": []
    },
    {
      "cell_type": "code",
      "metadata": {
        "id": "UpZJn0dfEm7g",
        "colab_type": "code",
        "outputId": "e26e2d47-dd70-4ed5-945f-111e6d991874",
        "colab": {
          "base_uri": "https://localhost:8080/",
          "height": 34
        }
      },
      "source": [
        "print(f'This is the mean loss {loss(np.random.rand(7), np.random.randint(2, size=7))}')"
      ],
      "execution_count": 0,
      "outputs": [
        {
          "output_type": "stream",
          "text": [
            "This is the mean loss -0.5634688501808093\n"
          ],
          "name": "stdout"
        }
      ]
    },
    {
      "cell_type": "markdown",
      "metadata": {
        "id": "R94-UA2XEm7j",
        "colab_type": "text"
      },
      "source": [
        "## Gradient"
      ]
    },
    {
      "cell_type": "code",
      "metadata": {
        "id": "9K4BacSSEm7j",
        "colab_type": "code",
        "colab": {}
      },
      "source": [
        "def gradient(x, out, actual):\n",
        "    loss_diff = out - actual # diffrentiation for the loss function\n",
        "    print(loss_diff.shape, x.T.shape) # \n",
        "    gradient = np.dot(x.T, loss_diff) # chaining of derivative\n",
        "    return gradient"
      ],
      "execution_count": 0,
      "outputs": []
    },
    {
      "cell_type": "code",
      "metadata": {
        "id": "VHqztfEwEm7m",
        "colab_type": "code",
        "outputId": "fd39fb8e-e383-4ee1-c50f-42ec032957d9",
        "colab": {
          "base_uri": "https://localhost:8080/",
          "height": 119
        }
      },
      "source": [
        "out, actual = linear_classifier(np.random.rand(2,5) ,np.random.randint(2, size=1))\n",
        "gradient(np.random.rand(2,5), out, actual)"
      ],
      "execution_count": 0,
      "outputs": [
        {
          "output_type": "stream",
          "text": [
            "(2, 1) (5, 2)\n"
          ],
          "name": "stdout"
        },
        {
          "output_type": "execute_result",
          "data": {
            "text/plain": [
              "array([[-0.08096959],\n",
              "       [-0.17685766],\n",
              "       [-0.20454018],\n",
              "       [-0.2410765 ],\n",
              "       [-0.31738464]])"
            ]
          },
          "metadata": {
            "tags": []
          },
          "execution_count": 8
        }
      ]
    },
    {
      "cell_type": "markdown",
      "metadata": {
        "id": "ce6nsl5BEm7q",
        "colab_type": "text"
      },
      "source": [
        "## \"Class\"-ifying it"
      ]
    },
    {
      "cell_type": "code",
      "metadata": {
        "id": "vfd7Sut3Em7q",
        "colab_type": "code",
        "colab": {}
      },
      "source": [
        "class LogisticRegression:\n",
        "    def __init__(self, lr=0.01, num_iter=10000, fit_intercept=True, verbose=True):\n",
        "        self.lr = lr\n",
        "        self.num_iter = num_iter\n",
        "        self.fit_intercept = fit_intercept\n",
        "        self.verbose = verbose\n",
        "        self.theta = None\n",
        "    \n",
        "    def __add_intercept(self, X):\n",
        "        intercept = np.ones((X.shape[0], 1))\n",
        "        return np.concatenate((intercept, X), axis=1)\n",
        "    \n",
        "    def __sigmoid(self, z):\n",
        "        return 1 / (1 + np.exp(-z))\n",
        "    def __loss(self, h, y):\n",
        "        return (-y * np.log(h) - (1 - y) * np.log(1 - h)).mean()\n",
        "    \n",
        "    def fit(self, X, y):\n",
        "        if self.fit_intercept:\n",
        "            X = self.__add_intercept(X)\n",
        "        \n",
        "        # weights initialization\n",
        "        self.theta = np.zeros(X.shape[1])\n",
        "        \n",
        "        for i in range(self.num_iter):\n",
        "            z = np.dot(X, self.theta)\n",
        "            h = self.__sigmoid(z)\n",
        "            gradient = np.dot(X.T, (h - y)) / y.size\n",
        "            self.theta -= self.lr * gradient\n",
        "            \n",
        "            z = np.dot(X, self.theta)\n",
        "            h = self.__sigmoid(z)\n",
        "            loss = self.__loss(h, y)\n",
        "                \n",
        "            if(self.verbose ==True and i % 500 == 0):\n",
        "                print(f'loss: {loss} \\t')\n",
        "    \n",
        "    def predict_prob(self, X):\n",
        "        if self.fit_intercept:\n",
        "            X = self.__add_intercept(X)\n",
        "    \n",
        "        return self.__sigmoid(np.dot(X, self.theta))\n",
        "    \n",
        "    def predict(self, X):\n",
        "        return self.predict_prob(X).round()\n",
        "    \n",
        "    def give_weights(self):\n",
        "        return self.theta"
      ],
      "execution_count": 0,
      "outputs": []
    },
    {
      "cell_type": "code",
      "metadata": {
        "id": "i2wvk0HdEm7t",
        "colab_type": "code",
        "outputId": "ca21ad36-23b3-4613-af50-74462b4c6fdd",
        "colab": {
          "base_uri": "https://localhost:8080/",
          "height": 51
        }
      },
      "source": [
        "train_images = mnist.train_images()/255.\n",
        "train_images = train_images.reshape(train_images.shape[0], -1)\n",
        "train_labels = mnist.train_labels()\n",
        "print(train_images.shape)\n",
        "print(train_labels.shape)"
      ],
      "execution_count": 0,
      "outputs": [
        {
          "output_type": "stream",
          "text": [
            "(60000, 784)\n",
            "(60000,)\n"
          ],
          "name": "stdout"
        }
      ]
    },
    {
      "cell_type": "code",
      "metadata": {
        "id": "vmSqgPZXEm7w",
        "colab_type": "code",
        "colab": {}
      },
      "source": [
        "model = LogisticRegression(lr = 0.001, num_iter = 10000)"
      ],
      "execution_count": 0,
      "outputs": []
    },
    {
      "cell_type": "markdown",
      "metadata": {
        "id": "hjFOcuBnEm7z",
        "colab_type": "text"
      },
      "source": [
        "# Only Classifying a Single digit"
      ]
    },
    {
      "cell_type": "code",
      "metadata": {
        "id": "scXwY27MEm7z",
        "colab_type": "code",
        "outputId": "3c0eee50-1d82-457f-c3c9-dfda969673b1",
        "colab": {
          "base_uri": "https://localhost:8080/",
          "height": 34
        }
      },
      "source": [
        "train_labels"
      ],
      "execution_count": 0,
      "outputs": [
        {
          "output_type": "execute_result",
          "data": {
            "text/plain": [
              "array([5, 0, 4, ..., 5, 6, 8], dtype=uint8)"
            ]
          },
          "metadata": {
            "tags": []
          },
          "execution_count": 12
        }
      ]
    },
    {
      "cell_type": "code",
      "metadata": {
        "id": "vSWBX5DKEm74",
        "colab_type": "code",
        "outputId": "4fab5d48-9f7e-447f-c93b-a9e4554f8daf",
        "colab": {
          "base_uri": "https://localhost:8080/",
          "height": 34
        }
      },
      "source": [
        "\n",
        "train_labels = np.array([ 1 if x==7 else 0 for x in train_labels ])\n",
        "\n",
        "print(train_labels)"
      ],
      "execution_count": 0,
      "outputs": [
        {
          "output_type": "stream",
          "text": [
            "[0 0 0 ... 0 0 0]\n"
          ],
          "name": "stdout"
        }
      ]
    },
    {
      "cell_type": "code",
      "metadata": {
        "id": "IZAyQGH3Em76",
        "colab_type": "code",
        "outputId": "1914c4b2-9422-4172-eb36-0ebb5c16b0d6",
        "colab": {
          "base_uri": "https://localhost:8080/",
          "height": 357
        }
      },
      "source": [
        "model.fit(train_images[:1000], train_labels[:1000])"
      ],
      "execution_count": 0,
      "outputs": [
        {
          "output_type": "stream",
          "text": [
            "loss: 0.6875525831455905 \t\n",
            "loss: 0.29546765261842506 \t\n",
            "loss: 0.24747210896523839 \t\n",
            "loss: 0.21517494144922053 \t\n",
            "loss: 0.19216357442786874 \t\n",
            "loss: 0.17518576679803963 \t\n",
            "loss: 0.1622057667162103 \t\n",
            "loss: 0.1519623964082686 \t\n",
            "loss: 0.14365822167341197 \t\n",
            "loss: 0.1367727452397071 \t\n",
            "loss: 0.13095484242615105 \t\n",
            "loss: 0.125960231256864 \t\n",
            "loss: 0.12161417260818064 \t\n",
            "loss: 0.11778854447681032 \t\n",
            "loss: 0.11438732540199467 \t\n",
            "loss: 0.11133714119766418 \t\n",
            "loss: 0.10858094790371017 \t\n",
            "loss: 0.10607370988727753 \t\n",
            "loss: 0.10377937899248545 \t\n",
            "loss: 0.10166874163582179 \t\n"
          ],
          "name": "stdout"
        }
      ]
    },
    {
      "cell_type": "code",
      "metadata": {
        "id": "YDoMfcIAIrG-",
        "colab_type": "code",
        "colab": {}
      },
      "source": [
        "filter_reg = (model.give_weights()[:784].reshape(28,28) * 255).astype('int')"
      ],
      "execution_count": 0,
      "outputs": []
    },
    {
      "cell_type": "code",
      "metadata": {
        "id": "hQzDNS2bJRQ9",
        "colab_type": "code",
        "outputId": "0c53f464-4322-4539-fff2-8f51c80e38e7",
        "colab": {
          "base_uri": "https://localhost:8080/",
          "height": 286
        }
      },
      "source": [
        "plt.imshow(filter_reg, cmap='binary')   # This figure shows that a LR basically takes average values of multiple hot sample, this is only to draw intuition :)"
      ],
      "execution_count": 0,
      "outputs": [
        {
          "output_type": "execute_result",
          "data": {
            "text/plain": [
              "<matplotlib.image.AxesImage at 0x7ff747230588>"
            ]
          },
          "metadata": {
            "tags": []
          },
          "execution_count": 16
        },
        {
          "output_type": "display_data",
          "data": {
            "image/png": "[encoded data removed]",
            "text/plain": [
              "<Figure size 432x288 with 1 Axes>"
            ]
          },
          "metadata": {
            "tags": []
          }
        }
      ]
    }
  ]
}